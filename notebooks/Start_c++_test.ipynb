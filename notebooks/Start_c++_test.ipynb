{
 "cells": [
  {
   "cell_type": "markdown",
   "id": "a7289be2",
   "metadata": {},
   "source": [
    "Здесь напишите include"
   ]
  },
  {
   "cell_type": "code",
   "execution_count": null,
   "id": "d15f8e5c",
   "metadata": {},
   "outputs": [],
   "source": []
  },
  {
   "cell_type": "markdown",
   "id": "481033c4",
   "metadata": {},
   "source": [
    "Здесь using namespace"
   ]
  },
  {
   "cell_type": "code",
   "execution_count": null,
   "id": "9c890975",
   "metadata": {},
   "outputs": [],
   "source": []
  },
  {
   "cell_type": "markdown",
   "id": "c480b2c2",
   "metadata": {},
   "source": [
    "Выведите число 42"
   ]
  },
  {
   "cell_type": "code",
   "execution_count": null,
   "id": "c55d3b86",
   "metadata": {},
   "outputs": [],
   "source": []
  },
  {
   "cell_type": "markdown",
   "id": "c2d819a6",
   "metadata": {},
   "source": [
    "Определите переменную a"
   ]
  },
  {
   "cell_type": "code",
   "execution_count": null,
   "id": "27d773bc",
   "metadata": {},
   "outputs": [],
   "source": []
  },
  {
   "cell_type": "markdown",
   "id": "a439085e",
   "metadata": {},
   "source": [
    "Считайте переменную a при помощи cin"
   ]
  },
  {
   "cell_type": "code",
   "execution_count": null,
   "id": "c890dc3b",
   "metadata": {},
   "outputs": [],
   "source": []
  },
  {
   "cell_type": "markdown",
   "id": "250df870",
   "metadata": {},
   "source": [
    "Выведите переменную, умноженную на 2"
   ]
  },
  {
   "cell_type": "code",
   "execution_count": null,
   "id": "79ae1dd7",
   "metadata": {},
   "outputs": [],
   "source": []
  },
  {
   "cell_type": "markdown",
   "id": "040e1931",
   "metadata": {},
   "source": [
    "А теперь напишите свою первую полноценную программу, для этого начните с int main(){ - объявления основной функции, а завершите return 0; } - сообщением об отсутствии ошибок. Внутри напишите \"Hello cobalt orden\""
   ]
  },
  {
   "cell_type": "code",
   "execution_count": null,
   "id": "37397059",
   "metadata": {},
   "outputs": [],
   "source": []
  }
 ],
 "metadata": {
  "kernelspec": {
   "display_name": "C++17",
   "language": "C++17",
   "name": "xcpp17"
  },
  "language_info": {
   "codemirror_mode": "text/x-c++src",
   "file_extension": ".cpp",
   "mimetype": "text/x-c++src",
   "name": "c++",
   "version": "17"
  }
 },
 "nbformat": 4,
 "nbformat_minor": 5
}
